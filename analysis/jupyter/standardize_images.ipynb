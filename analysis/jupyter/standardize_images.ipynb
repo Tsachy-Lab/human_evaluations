{
 "cells": [
  {
   "cell_type": "markdown",
   "metadata": {},
   "source": [
    "# This notebook standardizes images for display\n",
    "Images are read in from `folder_path` and saved to `test_path`"
   ]
  },
  {
   "cell_type": "code",
   "execution_count": 4,
   "metadata": {},
   "outputs": [],
   "source": [
    "from matplotlib.pyplot import imshow\n",
    "import numpy as np\n",
    "import PIL\n",
    "from PIL import Image\n",
    "import os\n",
    "\n",
    "%matplotlib inline"
   ]
  },
  {
   "cell_type": "markdown",
   "metadata": {},
   "source": [
    "Set folder path variables"
   ]
  },
  {
   "cell_type": "code",
   "execution_count": 5,
   "metadata": {},
   "outputs": [],
   "source": [
    "folder_path = '/home/ihwang/data/human_compression/all_levels/'\n",
    "test_path = '/home/ihwang/data/human_compression/test_imgs/'"
   ]
  },
  {
   "cell_type": "markdown",
   "metadata": {},
   "source": [
    "Get all files, and get PNG files"
   ]
  },
  {
   "cell_type": "code",
   "execution_count": null,
   "metadata": {},
   "outputs": [],
   "source": [
    "all_files = os.listdir(folder_path)\n",
    "png_files = [i for i in all_files if ('png' in i) and ('webp' not in i)]"
   ]
  },
  {
   "cell_type": "markdown",
   "metadata": {},
   "source": [
    "Resize images according to ballpark 500 px wide (for landscape-oriented images), and ballpark 600 px tall (for portrait-oriented images). General procedure:\n",
    "* Since original and BPG compressed files (stored as `other_files`) are all the same size, first resize them according to the above specifications.\n",
    "* Then, resize the human compressed file (`final_file`) as the same height. This is because we'll be displaying images side-by-side, and workers might negatively notice when images are different heights."
   ]
  },
  {
   "cell_type": "code",
   "execution_count": 6,
   "metadata": {},
   "outputs": [],
   "source": [
    "image_names = set([i.split('_')[0] for i in png_files])\n",
    "for name in image_names:\n",
    "    name_files = [i for i in png_files if name in i]\n",
    "    test_files = [i for i in name_files if ('bpg' in i) or ('final' in i) or ('original' in i)]\n",
    "    final_file = [i for i in test_files if 'final' in i]\n",
    "    other_files = set(test_files).difference(set(final_file))\n",
    "    # Resize other files (original and BPG compressed files)\n",
    "    for other_file in other_files:\n",
    "        im = Image.open(folder_path + other_file)\n",
    "        if im.height < im.width:\n",
    "            factor = float(500) / im.width\n",
    "            img_suffix = '_500pxw.png'\n",
    "        else:\n",
    "            factor = float(600) / im.height\n",
    "            img_suffix = '_600pxh.png'\n",
    "        resized = im.resize((int(im.width * factor), int(im.height * factor)), resample=PIL.Image.LANCZOS)\n",
    "        resized.save(test_path + other_file.split('.png')[0] + img_suffix)\n",
    "    # Resize final file to have the same height\n",
    "    other_width = int(im.width * factor)\n",
    "    other_height = int(im.height * factor)\n",
    "    im = Image.open(folder_path + final_file[0])\n",
    "    new_height = other_height\n",
    "    new_width = int((float(new_height) / im.height) * im.width)\n",
    "    if im.height < im.width:\n",
    "        img_suffix = '_%spxw.png' %new_width\n",
    "    else:\n",
    "        img_suffix = '_%spxh.png' %new_height\n",
    "    resized = im.resize((new_width, new_height), resample=PIL.Image.LANCZOS)\n",
    "    resized.save(test_path + final_file[0].split('.png')[0] + img_suffix)"
   ]
  },
  {
   "cell_type": "code",
   "execution_count": null,
   "metadata": {},
   "outputs": [],
   "source": []
  }
 ],
 "metadata": {
  "kernelspec": {
   "display_name": "Python 3",
   "language": "python",
   "name": "python3"
  },
  "language_info": {
   "codemirror_mode": {
    "name": "ipython",
    "version": 2
   },
   "file_extension": ".py",
   "mimetype": "text/x-python",
   "name": "python",
   "nbconvert_exporter": "python",
   "pygments_lexer": "ipython2",
   "version": "2.7.15rc1"
  }
 },
 "nbformat": 4,
 "nbformat_minor": 2
}
