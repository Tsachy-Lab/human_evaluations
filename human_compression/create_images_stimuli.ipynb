{
 "cells": [
  {
   "cell_type": "markdown",
   "metadata": {},
   "source": [
    "# This notebook contains methods for turning a database of images into stimuli\n",
    "This is for generating stimuli from a collection of BPG and human-compressed images. The notebook assumes:\n",
    "* All images (BPG-compressed, human-compressed, and original files) are PNGs that are hosted in a publicly-viewable Google Drive folder\n",
    "* Basic info about the images database (Google Drive folder) are recorded in a .csv file which is read into the variable `data_file`\n",
    "* BPG-compressed images have filenames containing the image height in pixels\n",
    "* Human-compressed images have file suffix '_final.png'"
   ]
  },
  {
   "cell_type": "markdown",
   "metadata": {},
   "source": [
    "Import python libraries"
   ]
  },
  {
   "cell_type": "code",
   "execution_count": 1,
   "metadata": {},
   "outputs": [],
   "source": [
    "import json\n",
    "import numpy as np\n",
    "import csv\n",
    "import pymongo as pm\n",
    "import copy"
   ]
  },
  {
   "cell_type": "markdown",
   "metadata": {},
   "source": [
    "Define data file and other necessary variables (e.g. Google image file prefix)"
   ]
  },
  {
   "cell_type": "code",
   "execution_count": 2,
   "metadata": {},
   "outputs": [],
   "source": [
    "data_file = 'img_ids.csv'\n",
    "google_image_str = 'http://drive.google.com/uc?export=view&id='  # Prefix for accessing Google Image files"
   ]
  },
  {
   "cell_type": "markdown",
   "metadata": {},
   "source": [
    "Read in data file and print header"
   ]
  },
  {
   "cell_type": "code",
   "execution_count": 3,
   "metadata": {
    "scrolled": false
   },
   "outputs": [
    {
     "name": "stdout",
     "output_type": "stream",
     "text": [
      "['Name', 'Date', 'Size', 'URL', 'ID']\n"
     ]
    }
   ],
   "source": [
    "data_dict = {}\n",
    "line_counter = 0\n",
    "with open(data_file) as csv_file:\n",
    "    for line in csv_file:\n",
    "        if line_counter == 0:\n",
    "            header_list = line.strip().split(',')\n",
    "        else:\n",
    "            line_data = line.strip().split(',')\n",
    "            data_dict[line_data[0]] = {i: j for (i, j) in zip(header_list[1:], line_data[1:])}\n",
    "        line_counter += 1\n",
    "print(header_list)"
   ]
  },
  {
   "cell_type": "markdown",
   "metadata": {},
   "source": [
    "## Create stimuli list based on data"
   ]
  },
  {
   "cell_type": "code",
   "execution_count": 4,
   "metadata": {},
   "outputs": [],
   "source": [
    "image_types = [i for i in set([i.split('_')[0] for i in list(data_dict.keys())]) if (len(i) > 0) & ('.' not in i)]\n",
    "stimuli_list = []\n",
    "for image_type in image_types:\n",
    "    if len(image_type) > 1:\n",
    "        png_files = [i for i in data_dict.keys() if (image_type in i) & ('.png' in i)]\n",
    "        compressed_files = [i for i in png_files if ('bpg' in i) or ('final' in i)]\n",
    "        original_files = [i for i in png_files if ('original') in i or (('pxh' in i) & ('bpg' not in i))]\n",
    "        if len(original_files) > 1:\n",
    "            original_file = [i for i in original_files if 'px' in i][0]\n",
    "        else:\n",
    "            original_file = original_files[0]\n",
    "        for compressed_file in compressed_files:\n",
    "            if 'final' in compressed_file:\n",
    "                image_height = 'NA'\n",
    "                compression_level ='human'\n",
    "                compression_mode = 'human'\n",
    "            else:\n",
    "                image_height = compressed_file.split('_')[1].split('pxh')[0]\n",
    "                compression_level = compressed_file.split('_bpg')[1].split('.')[0]\n",
    "                compression_mode = 'bpg'\n",
    "            stimuli_list.append(\n",
    "                {\n",
    "                    'image_filename' : compressed_file,\n",
    "                    'image_name': compressed_file.split('_')[0],\n",
    "                    'image_height': image_height,\n",
    "                    'compression_level': compression_level,\n",
    "                    'compression_mode': compression_mode,\n",
    "                    'original_url': google_image_str + data_dict[original_file]['ID'],\n",
    "                    'compressed_url' : google_image_str + data_dict[compressed_file]['ID']\n",
    "                }\n",
    "            )"
   ]
  },
  {
   "cell_type": "markdown",
   "metadata": {},
   "source": [
    "Check stimuli list"
   ]
  },
  {
   "cell_type": "code",
   "execution_count": 5,
   "metadata": {
    "scrolled": true
   },
   "outputs": [
    {
     "data": {
      "text/plain": [
       "{'compressed_url': 'http://drive.google.com/uc?export=view&id=1zFbvwgb4uLHLzilqgvsIdrn2TQXm6SQ_',\n",
       " 'compression_level': '43',\n",
       " 'compression_mode': 'bpg',\n",
       " 'image_filename': 'rockwall_1029pxh_bpg43.png',\n",
       " 'image_height': '1029',\n",
       " 'image_name': 'rockwall',\n",
       " 'original_url': 'http://drive.google.com/uc?export=view&id=1svOMbWnGZo8SsWb4_2wgaKuDbPovLEF-'}"
      ]
     },
     "execution_count": 5,
     "metadata": {},
     "output_type": "execute_result"
    }
   ],
   "source": [
    "stimuli_list[0]"
   ]
  },
  {
   "cell_type": "markdown",
   "metadata": {},
   "source": [
    "## Now that the list of stimuli is created, we can export them in two ways"
   ]
  },
  {
   "cell_type": "markdown",
   "metadata": {},
   "source": [
    "### Option 1: Connect to a mongodb server and insert stimuli"
   ]
  },
  {
   "cell_type": "code",
   "execution_count": 6,
   "metadata": {
    "scrolled": false
   },
   "outputs": [
    {
     "name": "stderr",
     "output_type": "stream",
     "text": [
      "/usr/local/lib/python2.7/dist-packages/ipykernel_launcher.py:6: DeprecationWarning: database_names is deprecated. Use list_database_names instead.\n",
      "  \n"
     ]
    },
    {
     "data": {
      "text/plain": [
       "[u'admin',\n",
       " u'config',\n",
       " u'highschoolers',\n",
       " u'kiddraw',\n",
       " u'local',\n",
       " u'stimuli',\n",
       " u'testDatabase']"
      ]
     },
     "execution_count": 6,
     "metadata": {},
     "output_type": "execute_result"
    }
   ],
   "source": [
    "pswd = 'popeye2mongo'\n",
    "user = 'ihwang'\n",
    "host = 'popeye2'\n",
    "\n",
    "conn = pm.MongoClient('mongodb://' + user + ':' + pswd + '@127.0.0.1')\n",
    "conn.database_names()  # Check databases inside the connected server"
   ]
  },
  {
   "cell_type": "markdown",
   "metadata": {},
   "source": [
    "Create a database called `stimuli` (or access it if it already exists), create a collection called `bpg_hc_eval` (or access it if it already exists) and insert stimuli from list"
   ]
  },
  {
   "cell_type": "code",
   "execution_count": 7,
   "metadata": {
    "scrolled": true
   },
   "outputs": [
    {
     "name": "stdout",
     "output_type": "stream",
     "text": [
      "{'compressed_url': 'http://drive.google.com/uc?export=view&id=1zFbvwgb4uLHLzilqgvsIdrn2TQXm6SQ_', 'original_url': 'http://drive.google.com/uc?export=view&id=1svOMbWnGZo8SsWb4_2wgaKuDbPovLEF-', 'image_name': 'rockwall', 'image_height': '1029', 'compression_level': '43', 'compression_mode': 'bpg', 'image_filename': 'rockwall_1029pxh_bpg43.png'}\n",
      "{'compressed_url': 'http://drive.google.com/uc?export=view&id=1SsYZIe0gEU2xbYuqRcDf7oJ0LGrJELpS', 'original_url': 'http://drive.google.com/uc?export=view&id=1svOMbWnGZo8SsWb4_2wgaKuDbPovLEF-', 'image_name': 'rockwall', 'image_height': '1029', 'compression_level': '39', 'compression_mode': 'bpg', 'image_filename': 'rockwall_1029pxh_bpg39.png'}\n",
      "{'compressed_url': 'http://drive.google.com/uc?export=view&id=1NdtOkpvSJWskPgr6C8mnHOG5ZdIx0HGX', 'original_url': 'http://drive.google.com/uc?export=view&id=1svOMbWnGZo8SsWb4_2wgaKuDbPovLEF-', 'image_name': 'rockwall', 'image_height': '1029', 'compression_level': '34', 'compression_mode': 'bpg', 'image_filename': 'rockwall_1029pxh_bpg34.png'}\n",
      "{'compressed_url': 'http://drive.google.com/uc?export=view&id=1q-WRACnz_eCGwVs1UgrkxcDDY0vBLTP6', 'original_url': 'http://drive.google.com/uc?export=view&id=1svOMbWnGZo8SsWb4_2wgaKuDbPovLEF-', 'image_name': 'rockwall', 'image_height': 'NA', 'compression_level': 'human', 'compression_mode': 'human', 'image_filename': 'rockwall_final.png'}\n",
      "{'compressed_url': 'http://drive.google.com/uc?export=view&id=1wT2Md7ALQL0gEWsf-WIiiczDpd8d-Qk_', 'original_url': 'http://drive.google.com/uc?export=view&id=1svOMbWnGZo8SsWb4_2wgaKuDbPovLEF-', 'image_name': 'rockwall', 'image_height': '1029', 'compression_level': '49', 'compression_mode': 'bpg', 'image_filename': 'rockwall_1029pxh_bpg49.png'}\n",
      "{'compressed_url': 'http://drive.google.com/uc?export=view&id=18gstUXRTHAAuojQ3gsQYm83QF0cB8Z-6', 'original_url': 'http://drive.google.com/uc?export=view&id=1svOMbWnGZo8SsWb4_2wgaKuDbPovLEF-', 'image_name': 'rockwall', 'image_height': '1029', 'compression_level': '46', 'compression_mode': 'bpg', 'image_filename': 'rockwall_1029pxh_bpg46.png'}\n",
      "{'compressed_url': 'http://drive.google.com/uc?export=view&id=1FW5XM9AF6eNK5B2j_gTZZh2zVFYng2Wq', 'original_url': 'http://drive.google.com/uc?export=view&id=1_jpqsJAvf1rfY_LUqH9CdxZ-MX92rbzW', 'image_name': 'face', 'image_height': 'NA', 'compression_level': 'human', 'compression_mode': 'human', 'image_filename': 'face_final.png'}\n",
      "{'compressed_url': 'http://drive.google.com/uc?export=view&id=1_1XeOqZkOSJUryXjm42P1-rK6tvQHF54', 'original_url': 'http://drive.google.com/uc?export=view&id=1_jpqsJAvf1rfY_LUqH9CdxZ-MX92rbzW', 'image_name': 'face', 'image_height': '1008', 'compression_level': '48', 'compression_mode': 'bpg', 'image_filename': 'face_1008pxh_bpg48.png'}\n",
      "{'compressed_url': 'http://drive.google.com/uc?export=view&id=1Gm0i8ofKzrna3kCm7PUI3iPN_IiJgbzo', 'original_url': 'http://drive.google.com/uc?export=view&id=1_jpqsJAvf1rfY_LUqH9CdxZ-MX92rbzW', 'image_name': 'face', 'image_height': '1008', 'compression_level': '43', 'compression_mode': 'bpg', 'image_filename': 'face_1008pxh_bpg43.png'}\n",
      "{'compressed_url': 'http://drive.google.com/uc?export=view&id=1nyIdaKYC25GWBTEcjJRDqZGTyt7Zr1pC', 'original_url': 'http://drive.google.com/uc?export=view&id=1_jpqsJAvf1rfY_LUqH9CdxZ-MX92rbzW', 'image_name': 'face', 'image_height': '1008', 'compression_level': '30', 'compression_mode': 'bpg', 'image_filename': 'face_1008pxh_bpg30.png'}\n",
      "{'compressed_url': 'http://drive.google.com/uc?export=view&id=1RVHy0CdJuHNbst1vPDMY7Gte7alZwz6Y', 'original_url': 'http://drive.google.com/uc?export=view&id=1_jpqsJAvf1rfY_LUqH9CdxZ-MX92rbzW', 'image_name': 'face', 'image_height': '1008', 'compression_level': '35', 'compression_mode': 'bpg', 'image_filename': 'face_1008pxh_bpg35.png'}\n",
      "{'compressed_url': 'http://drive.google.com/uc?export=view&id=1n5rmy8egMdT4ltkpsA0Y8yhTGT45dftp', 'original_url': 'http://drive.google.com/uc?export=view&id=1_jpqsJAvf1rfY_LUqH9CdxZ-MX92rbzW', 'image_name': 'face', 'image_height': '1008', 'compression_level': '39', 'compression_mode': 'bpg', 'image_filename': 'face_1008pxh_bpg39.png'}\n",
      "{'compressed_url': 'http://drive.google.com/uc?export=view&id=1thym3X1QrGl0JCui6dNhKJ1vZSbcE_j7', 'original_url': 'http://drive.google.com/uc?export=view&id=1yjIX3QVoz62jT70A5pFSUOjUwZ2SER95', 'image_name': 'fire', 'image_height': '750', 'compression_level': '44', 'compression_mode': 'bpg', 'image_filename': 'fire_750pxh_bpg44.png'}\n",
      "{'compressed_url': 'http://drive.google.com/uc?export=view&id=1uwi9adxBA3ZAno7v6Hawq0-VzJ11IjMU', 'original_url': 'http://drive.google.com/uc?export=view&id=1yjIX3QVoz62jT70A5pFSUOjUwZ2SER95', 'image_name': 'fire', 'image_height': '750', 'compression_level': '28', 'compression_mode': 'bpg', 'image_filename': 'fire_750pxh_bpg28.png'}\n",
      "{'compressed_url': 'http://drive.google.com/uc?export=view&id=17mGTbu7GAHWytCfbAPIc0smFEVdzCwWD', 'original_url': 'http://drive.google.com/uc?export=view&id=1yjIX3QVoz62jT70A5pFSUOjUwZ2SER95', 'image_name': 'fire', 'image_height': '750', 'compression_level': '49', 'compression_mode': 'bpg', 'image_filename': 'fire_750pxh_bpg49.png'}\n",
      "{'compressed_url': 'http://drive.google.com/uc?export=view&id=1MUmqRqYPJl00FqRhNzTnEAFA9yJWVaIe', 'original_url': 'http://drive.google.com/uc?export=view&id=1yjIX3QVoz62jT70A5pFSUOjUwZ2SER95', 'image_name': 'fire', 'image_height': '750', 'compression_level': '39', 'compression_mode': 'bpg', 'image_filename': 'fire_750pxh_bpg39.png'}\n",
      "{'compressed_url': 'http://drive.google.com/uc?export=view&id=1R5mqgqcxYXbLt_kgGBMnWEuCAgHREtFx', 'original_url': 'http://drive.google.com/uc?export=view&id=1yjIX3QVoz62jT70A5pFSUOjUwZ2SER95', 'image_name': 'fire', 'image_height': 'NA', 'compression_level': 'human', 'compression_mode': 'human', 'image_filename': 'fire_final.png'}\n",
      "{'compressed_url': 'http://drive.google.com/uc?export=view&id=1cGZ5vacbER1vxCisS4OOBbWnKLB8nket', 'original_url': 'http://drive.google.com/uc?export=view&id=1yjIX3QVoz62jT70A5pFSUOjUwZ2SER95', 'image_name': 'fire', 'image_height': '750', 'compression_level': '34', 'compression_mode': 'bpg', 'image_filename': 'fire_750pxh_bpg34.png'}\n",
      "{'compressed_url': 'http://drive.google.com/uc?export=view&id=10tj3Ouvddc0PxW1WcIE9mi7WOC7PzMy6', 'original_url': 'http://drive.google.com/uc?export=view&id=1pC-rwxKKN8A6U_BxUHoCyxrWwPLBekXh', 'image_name': 'guitarman', 'image_height': 'NA', 'compression_level': 'human', 'compression_mode': 'human', 'image_filename': 'guitarman_final.png'}\n",
      "{'compressed_url': 'http://drive.google.com/uc?export=view&id=121EQJ3Rw8LsxpIQyaefkyc6ZoGZr_S75', 'original_url': 'http://drive.google.com/uc?export=view&id=1pC-rwxKKN8A6U_BxUHoCyxrWwPLBekXh', 'image_name': 'guitarman', 'image_height': '320', 'compression_level': '31', 'compression_mode': 'bpg', 'image_filename': 'guitarman_320pxh_bpg31.png'}\n",
      "{'compressed_url': 'http://drive.google.com/uc?export=view&id=1ORoJCWXMZWllpAJdu93UqCSn0MoRCaVv', 'original_url': 'http://drive.google.com/uc?export=view&id=1pC-rwxKKN8A6U_BxUHoCyxrWwPLBekXh', 'image_name': 'guitarman', 'image_height': '320', 'compression_level': '44', 'compression_mode': 'bpg', 'image_filename': 'guitarman_320pxh_bpg44.png'}\n",
      "{'compressed_url': 'http://drive.google.com/uc?export=view&id=1T4QgMjFZPyq_Z94b2IZRHk5tPxJTXITS', 'original_url': 'http://drive.google.com/uc?export=view&id=1pC-rwxKKN8A6U_BxUHoCyxrWwPLBekXh', 'image_name': 'guitarman', 'image_height': '320', 'compression_level': '38', 'compression_mode': 'bpg', 'image_filename': 'guitarman_320pxh_bpg38.png'}\n",
      "{'compressed_url': 'http://drive.google.com/uc?export=view&id=1u6HQQjBks1tgOLGNsI12J3AMk7AUFMNK', 'original_url': 'http://drive.google.com/uc?export=view&id=1pC-rwxKKN8A6U_BxUHoCyxrWwPLBekXh', 'image_name': 'guitarman', 'image_height': '320', 'compression_level': '24', 'compression_mode': 'bpg', 'image_filename': 'guitarman_320pxh_bpg24.png'}\n",
      "{'compressed_url': 'http://drive.google.com/uc?export=view&id=1qz2TU28YE6AfTPiEe-r5rzmzDSxzEWxH', 'original_url': 'http://drive.google.com/uc?export=view&id=1pC-rwxKKN8A6U_BxUHoCyxrWwPLBekXh', 'image_name': 'guitarman', 'image_height': '320', 'compression_level': '51', 'compression_mode': 'bpg', 'image_filename': 'guitarman_320pxh_bpg51.png'}\n",
      "{'compressed_url': 'http://drive.google.com/uc?export=view&id=1Cq17B9g2v9NUmyKmGPZ0AtgKiy8oBdpZ', 'original_url': 'http://drive.google.com/uc?export=view&id=19jPYbt6Q_BLv9h7dnfTr3MoXSlfzyxXt', 'image_name': 'balloon', 'image_height': '683', 'compression_level': '30', 'compression_mode': 'bpg', 'image_filename': 'balloon_683pxh_bpg30.png'}\n",
      "{'compressed_url': 'http://drive.google.com/uc?export=view&id=1CrUbLtAdILIQXyeSmY_3NfeNmGn8kHWn', 'original_url': 'http://drive.google.com/uc?export=view&id=19jPYbt6Q_BLv9h7dnfTr3MoXSlfzyxXt', 'image_name': 'balloon', 'image_height': '683', 'compression_level': '51', 'compression_mode': 'bpg', 'image_filename': 'balloon_683pxh_bpg51.png'}\n",
      "{'compressed_url': 'http://drive.google.com/uc?export=view&id=19jPYbt6Q_BLv9h7dnfTr3MoXSlfzyxXt', 'original_url': 'http://drive.google.com/uc?export=view&id=19jPYbt6Q_BLv9h7dnfTr3MoXSlfzyxXt', 'image_name': 'balloon', 'image_height': 'NA', 'compression_level': 'human', 'compression_mode': 'human', 'image_filename': 'balloon_683pxh_final.png'}\n",
      "{'compressed_url': 'http://drive.google.com/uc?export=view&id=1ciR5ThlbIpHr4uIyMsQLPKkmMgBpnXOO', 'original_url': 'http://drive.google.com/uc?export=view&id=19jPYbt6Q_BLv9h7dnfTr3MoXSlfzyxXt', 'image_name': 'balloon', 'image_height': '683', 'compression_level': '44', 'compression_mode': 'bpg', 'image_filename': 'balloon_683pxh_bpg44.png'}\n",
      "{'compressed_url': 'http://drive.google.com/uc?export=view&id=1yQVM5VY-cF82QebMfUcG36x0VvIzb5vG', 'original_url': 'http://drive.google.com/uc?export=view&id=19jPYbt6Q_BLv9h7dnfTr3MoXSlfzyxXt', 'image_name': 'balloon', 'image_height': '683', 'compression_level': '37', 'compression_mode': 'bpg', 'image_filename': 'balloon_683pxh_bpg37.png'}\n",
      "{'compressed_url': 'http://drive.google.com/uc?export=view&id=14q6Df9hEf8ZnCbP0B4goTO3oQ1uHVPEu', 'original_url': 'http://drive.google.com/uc?export=view&id=19jPYbt6Q_BLv9h7dnfTr3MoXSlfzyxXt', 'image_name': 'balloon', 'image_height': '683', 'compression_level': '24', 'compression_mode': 'bpg', 'image_filename': 'balloon_683pxh_bpg24.png'}\n",
      "{'compressed_url': 'http://drive.google.com/uc?export=view&id=1ysXIZQbKy5ZM5Kenv1w_hyjuLLdBBxoo', 'original_url': 'http://drive.google.com/uc?export=view&id=1YuYCNEj92K1kZtzSF-JsF9F796NUI5E5', 'image_name': 'sunsetlake', 'image_height': '2448', 'compression_level': '29', 'compression_mode': 'bpg', 'image_filename': 'sunsetlake_2448pxh_bpg29.png'}\n",
      "{'compressed_url': 'http://drive.google.com/uc?export=view&id=1HPGmDzhJt0RIwewb5ZVhkM11smpBc2Ew', 'original_url': 'http://drive.google.com/uc?export=view&id=1YuYCNEj92K1kZtzSF-JsF9F796NUI5E5', 'image_name': 'sunsetlake', 'image_height': 'NA', 'compression_level': 'human', 'compression_mode': 'human', 'image_filename': 'sunsetlake_final.png'}\n",
      "{'compressed_url': 'http://drive.google.com/uc?export=view&id=1fQhZk0DCizjrp8VgPb5QZxtN5QbghifF', 'original_url': 'http://drive.google.com/uc?export=view&id=1YuYCNEj92K1kZtzSF-JsF9F796NUI5E5', 'image_name': 'sunsetlake', 'image_height': '2448', 'compression_level': '50', 'compression_mode': 'bpg', 'image_filename': 'sunsetlake_2448pxh_bpg50.png'}\n",
      "{'compressed_url': 'http://drive.google.com/uc?export=view&id=1J4zQ4ittVgWyThSe5zkyV3_kD7aMVuNR', 'original_url': 'http://drive.google.com/uc?export=view&id=1YuYCNEj92K1kZtzSF-JsF9F796NUI5E5', 'image_name': 'sunsetlake', 'image_height': '2448', 'compression_level': '43', 'compression_mode': 'bpg', 'image_filename': 'sunsetlake_2448pxh_bpg43.png'}\n",
      "{'compressed_url': 'http://drive.google.com/uc?export=view&id=1bC26uDJ0z3jCS7UjaOaP0R4K1O9kDODb', 'original_url': 'http://drive.google.com/uc?export=view&id=1YuYCNEj92K1kZtzSF-JsF9F796NUI5E5', 'image_name': 'sunsetlake', 'image_height': '2448', 'compression_level': '37', 'compression_mode': 'bpg', 'image_filename': 'sunsetlake_2448pxh_bpg37.png'}\n",
      "{'compressed_url': 'http://drive.google.com/uc?export=view&id=1zDB1z8A8lEbXba8BNDnJ5lv_hh4lY07Q', 'original_url': 'http://drive.google.com/uc?export=view&id=1YuYCNEj92K1kZtzSF-JsF9F796NUI5E5', 'image_name': 'sunsetlake', 'image_height': '2448', 'compression_level': '33', 'compression_mode': 'bpg', 'image_filename': 'sunsetlake_2448pxh_bpg33.png'}\n",
      "{'compressed_url': 'http://drive.google.com/uc?export=view&id=1ZqfcdClQWdaPIkSd22vjdECQRgqq54Vb', 'original_url': 'http://drive.google.com/uc?export=view&id=1cNu5US5XYlRSyKMq_w4ut5Hib9v5_Qx8', 'image_name': 'giraffe', 'image_height': '350', 'compression_level': '45', 'compression_mode': 'bpg', 'image_filename': 'giraffe_350pxh_bpg45.png'}\n",
      "{'compressed_url': 'http://drive.google.com/uc?export=view&id=1RY42UgJOpEmaU5F32YlaISLAKoxv1I7G', 'original_url': 'http://drive.google.com/uc?export=view&id=1cNu5US5XYlRSyKMq_w4ut5Hib9v5_Qx8', 'image_name': 'giraffe', 'image_height': '350', 'compression_level': '23', 'compression_mode': 'bpg', 'image_filename': 'giraffe_350pxh_bpg23.png'}\n",
      "{'compressed_url': 'http://drive.google.com/uc?export=view&id=12ogO4LaTROWrn8hRFXxRoa_ISdWPKCgN', 'original_url': 'http://drive.google.com/uc?export=view&id=1cNu5US5XYlRSyKMq_w4ut5Hib9v5_Qx8', 'image_name': 'giraffe', 'image_height': '350', 'compression_level': '40', 'compression_mode': 'bpg', 'image_filename': 'giraffe_350pxh_bpg40.png'}\n",
      "{'compressed_url': 'http://drive.google.com/uc?export=view&id=1IKbA174VxvCJOAw7qHrh5YA9r5dRHC97', 'original_url': 'http://drive.google.com/uc?export=view&id=1cNu5US5XYlRSyKMq_w4ut5Hib9v5_Qx8', 'image_name': 'giraffe', 'image_height': '350', 'compression_level': '30', 'compression_mode': 'bpg', 'image_filename': 'giraffe_350pxh_bpg30.png'}\n",
      "{'compressed_url': 'http://drive.google.com/uc?export=view&id=1WEDiQGa0pwsc4Yq-IZgvo96LSA5Jw497', 'original_url': 'http://drive.google.com/uc?export=view&id=1cNu5US5XYlRSyKMq_w4ut5Hib9v5_Qx8', 'image_name': 'giraffe', 'image_height': 'NA', 'compression_level': 'human', 'compression_mode': 'human', 'image_filename': 'giraffe_final.png'}\n",
      "{'compressed_url': 'http://drive.google.com/uc?export=view&id=1FgwbQlFM2GkiZQYt2tsmNeeQH-2G6p2u', 'original_url': 'http://drive.google.com/uc?export=view&id=1cNu5US5XYlRSyKMq_w4ut5Hib9v5_Qx8', 'image_name': 'giraffe', 'image_height': '350', 'compression_level': '35', 'compression_mode': 'bpg', 'image_filename': 'giraffe_350pxh_bpg35.png'}\n",
      "{'compressed_url': 'http://drive.google.com/uc?export=view&id=1g3X6UNNxhqFlG09x7hHOmD4fMja9rkmr', 'original_url': 'http://drive.google.com/uc?export=view&id=1UB0KOQhPs2uM0Ho4BXUAcaXWeGtCfGe_', 'image_name': 'train', 'image_height': '378', 'compression_level': '41', 'compression_mode': 'bpg', 'image_filename': 'train_378pxh_bpg41.png'}\n",
      "{'compressed_url': 'http://drive.google.com/uc?export=view&id=1kVoVMMSL8JD0S8EoTnGKCH9n_JEt8dQ9', 'original_url': 'http://drive.google.com/uc?export=view&id=1UB0KOQhPs2uM0Ho4BXUAcaXWeGtCfGe_', 'image_name': 'train', 'image_height': '378', 'compression_level': '27', 'compression_mode': 'bpg', 'image_filename': 'train_378pxh_bpg27.png'}\n",
      "{'compressed_url': 'http://drive.google.com/uc?export=view&id=1ZoD5K7rMaas-MY09IE63PbQ3vNCtOKe5', 'original_url': 'http://drive.google.com/uc?export=view&id=1UB0KOQhPs2uM0Ho4BXUAcaXWeGtCfGe_', 'image_name': 'train', 'image_height': '378', 'compression_level': '36', 'compression_mode': 'bpg', 'image_filename': 'train_378pxh_bpg36.png'}\n",
      "{'compressed_url': 'http://drive.google.com/uc?export=view&id=1RjGxi95B1dbfUdR6XEjo57zqtdQ2S4QZ', 'original_url': 'http://drive.google.com/uc?export=view&id=1UB0KOQhPs2uM0Ho4BXUAcaXWeGtCfGe_', 'image_name': 'train', 'image_height': '378', 'compression_level': '45', 'compression_mode': 'bpg', 'image_filename': 'train_378pxh_bpg45.png'}\n",
      "{'compressed_url': 'http://drive.google.com/uc?export=view&id=1uhs5zsL1mmsl-nP7FvFI9wgfxGRM2Enl', 'original_url': 'http://drive.google.com/uc?export=view&id=1UB0KOQhPs2uM0Ho4BXUAcaXWeGtCfGe_', 'image_name': 'train', 'image_height': '378', 'compression_level': '49', 'compression_mode': 'bpg', 'image_filename': 'train_378pxh_bpg49.png'}\n",
      "{'compressed_url': 'http://drive.google.com/uc?export=view&id=1avhV0HvQjjSWGPeJZ95ndHLyPjirLnvk', 'original_url': 'http://drive.google.com/uc?export=view&id=1UB0KOQhPs2uM0Ho4BXUAcaXWeGtCfGe_', 'image_name': 'train', 'image_height': 'NA', 'compression_level': 'human', 'compression_mode': 'human', 'image_filename': 'train_final.png'}\n",
      "{'compressed_url': 'http://drive.google.com/uc?export=view&id=1gv2fUuc3QCMFwAgFn66-cP_vNS5TQ9LD', 'original_url': 'http://drive.google.com/uc?export=view&id=1mXL3C-jxMhdbEz5rfMxaY7oK7Vft_QON', 'image_name': 'eiffeltower', 'image_height': '750', 'compression_level': '19', 'compression_mode': 'bpg', 'image_filename': 'eiffeltower_750pxh_bpg19.png'}\n",
      "{'compressed_url': 'http://drive.google.com/uc?export=view&id=155q2D79fVIv69q-GJui7F61y2M8YxBez', 'original_url': 'http://drive.google.com/uc?export=view&id=1mXL3C-jxMhdbEz5rfMxaY7oK7Vft_QON', 'image_name': 'eiffeltower', 'image_height': '750', 'compression_level': '35', 'compression_mode': 'bpg', 'image_filename': 'eiffeltower_750pxh_bpg35.png'}\n",
      "{'compressed_url': 'http://drive.google.com/uc?export=view&id=1Y8icEf87gFODyv-WZRSSKdZVtN6tWm4f', 'original_url': 'http://drive.google.com/uc?export=view&id=1mXL3C-jxMhdbEz5rfMxaY7oK7Vft_QON', 'image_name': 'eiffeltower', 'image_height': '750', 'compression_level': '42', 'compression_mode': 'bpg', 'image_filename': 'eiffeltower_750pxh_bpg42.png'}\n",
      "{'compressed_url': 'http://drive.google.com/uc?export=view&id=1R1xiwO0zrchNrp2DF_raU5G-U4XFKWtc', 'original_url': 'http://drive.google.com/uc?export=view&id=1mXL3C-jxMhdbEz5rfMxaY7oK7Vft_QON', 'image_name': 'eiffeltower', 'image_height': 'NA', 'compression_level': 'human', 'compression_mode': 'human', 'image_filename': 'eiffeltower_final.png'}\n",
      "{'compressed_url': 'http://drive.google.com/uc?export=view&id=1Y7bUgY5NNMOtRL-xMyInq4nnb5t008j3', 'original_url': 'http://drive.google.com/uc?export=view&id=1mXL3C-jxMhdbEz5rfMxaY7oK7Vft_QON', 'image_name': 'eiffeltower', 'image_height': '750', 'compression_level': '27', 'compression_mode': 'bpg', 'image_filename': 'eiffeltower_750pxh_bpg27.png'}\n",
      "{'compressed_url': 'http://drive.google.com/uc?export=view&id=1Bq0rj8TNgCKvzqd4VPuWubu51Y-Vwgpe', 'original_url': 'http://drive.google.com/uc?export=view&id=1mXL3C-jxMhdbEz5rfMxaY7oK7Vft_QON', 'image_name': 'eiffeltower', 'image_height': '750', 'compression_level': '47', 'compression_mode': 'bpg', 'image_filename': 'eiffeltower_750pxh_bpg47.png'}\n",
      "{'compressed_url': 'http://drive.google.com/uc?export=view&id=1262zRgEyL7dZ_1YX_Er5onLfgINzR91q', 'original_url': 'http://drive.google.com/uc?export=view&id=1AnuIBKZ_uO7E2oSTBAzMb9nQ7-3sZWZV', 'image_name': 'intersection', 'image_height': '1008', 'compression_level': '39', 'compression_mode': 'bpg', 'image_filename': 'intersection_1008pxh_bpg39.png'}\n",
      "{'compressed_url': 'http://drive.google.com/uc?export=view&id=1VEsAP-Bw9ULKS1VFzZLDpy9Ynls_2PMX', 'original_url': 'http://drive.google.com/uc?export=view&id=1AnuIBKZ_uO7E2oSTBAzMb9nQ7-3sZWZV', 'image_name': 'intersection', 'image_height': '1008', 'compression_level': '42', 'compression_mode': 'bpg', 'image_filename': 'intersection_1008pxh_bpg42.png'}\n",
      "{'compressed_url': 'http://drive.google.com/uc?export=view&id=1bWHTmnK1NsmvVa_0MoNch7kMoGBe9M9V', 'original_url': 'http://drive.google.com/uc?export=view&id=1AnuIBKZ_uO7E2oSTBAzMb9nQ7-3sZWZV', 'image_name': 'intersection', 'image_height': '1008', 'compression_level': '45', 'compression_mode': 'bpg', 'image_filename': 'intersection_1008pxh_bpg45.png'}\n",
      "{'compressed_url': 'http://drive.google.com/uc?export=view&id=1vAaLatFJUuvdlKCBA1szFxAkamzJapwq', 'original_url': 'http://drive.google.com/uc?export=view&id=1AnuIBKZ_uO7E2oSTBAzMb9nQ7-3sZWZV', 'image_name': 'intersection', 'image_height': '1008', 'compression_level': '49', 'compression_mode': 'bpg', 'image_filename': 'intersection_1008pxh_bpg49.png'}\n",
      "{'compressed_url': 'http://drive.google.com/uc?export=view&id=1hPKCpkuVSrEMcSUv_6tYjvc_W3nlkCQ9', 'original_url': 'http://drive.google.com/uc?export=view&id=1AnuIBKZ_uO7E2oSTBAzMb9nQ7-3sZWZV', 'image_name': 'intersection', 'image_height': '1008', 'compression_level': '34', 'compression_mode': 'bpg', 'image_filename': 'intersection_1008pxh_bpg34.png'}\n",
      "{'compressed_url': 'http://drive.google.com/uc?export=view&id=1zt4LJBpRT3ZrKwZ55kEspHmjWSFB-6hS', 'original_url': 'http://drive.google.com/uc?export=view&id=1AnuIBKZ_uO7E2oSTBAzMb9nQ7-3sZWZV', 'image_name': 'intersection', 'image_height': 'NA', 'compression_level': 'human', 'compression_mode': 'human', 'image_filename': 'intersection_final.png'}\n",
      "{'compressed_url': 'http://drive.google.com/uc?export=view&id=1SNcsZmYJ8g1hNDxiGyqji9VBHBvqtkiy', 'original_url': 'http://drive.google.com/uc?export=view&id=1yHDTRAM1m2n08b2DRR6h4v3vj70yOv1C', 'image_name': 'arch', 'image_height': 'NA', 'compression_level': 'human', 'compression_mode': 'human', 'image_filename': 'arch_final.png'}\n",
      "{'compressed_url': 'http://drive.google.com/uc?export=view&id=12IQnPmL6bryGQFkc-izBUiP7QY3wa7Y5', 'original_url': 'http://drive.google.com/uc?export=view&id=1yHDTRAM1m2n08b2DRR6h4v3vj70yOv1C', 'image_name': 'arch', 'image_height': '1143', 'compression_level': '34', 'compression_mode': 'bpg', 'image_filename': 'arch_1143pxh_bpg34.png'}\n",
      "{'compressed_url': 'http://drive.google.com/uc?export=view&id=1QC_w3Y4O56jMT0IAu6eNNTIyaiFnQWkZ', 'original_url': 'http://drive.google.com/uc?export=view&id=1yHDTRAM1m2n08b2DRR6h4v3vj70yOv1C', 'image_name': 'arch', 'image_height': '1143', 'compression_level': '51', 'compression_mode': 'bpg', 'image_filename': 'arch_1143pxh_bpg51.png'}\n",
      "{'compressed_url': 'http://drive.google.com/uc?export=view&id=1fS0_GEEDxjxLfNuS2Z9xFo_F0cSXWhhz', 'original_url': 'http://drive.google.com/uc?export=view&id=1yHDTRAM1m2n08b2DRR6h4v3vj70yOv1C', 'image_name': 'arch', 'image_height': '1143', 'compression_level': '44', 'compression_mode': 'bpg', 'image_filename': 'arch_1143pxh_bpg44.png'}\n",
      "{'compressed_url': 'http://drive.google.com/uc?export=view&id=17blhxoKlbc-3A3NosBq8z8FK-Qey4ViP', 'original_url': 'http://drive.google.com/uc?export=view&id=1yHDTRAM1m2n08b2DRR6h4v3vj70yOv1C', 'image_name': 'arch', 'image_height': '1143', 'compression_level': '39', 'compression_mode': 'bpg', 'image_filename': 'arch_1143pxh_bpg39.png'}\n",
      "{'compressed_url': 'http://drive.google.com/uc?export=view&id=1r_mw7o0Ay7BVNkVZA-FnsRLUA7eCCavk', 'original_url': 'http://drive.google.com/uc?export=view&id=1yHDTRAM1m2n08b2DRR6h4v3vj70yOv1C', 'image_name': 'arch', 'image_height': '1143', 'compression_level': '49', 'compression_mode': 'bpg', 'image_filename': 'arch_1143pxh_bpg49.png'}\n",
      "{'compressed_url': 'http://drive.google.com/uc?export=view&id=1P9Rzq7p_ULHDHJ4MZbV6as3Z_9Sr5dEo', 'original_url': 'http://drive.google.com/uc?export=view&id=15UhUImaDII-0krvdE_bgWXsLDsniT3Xh', 'image_name': 'beachbridge', 'image_height': '378', 'compression_level': '49', 'compression_mode': 'bpg', 'image_filename': 'beachbridge_378pxh_bpg49.png'}\n",
      "{'compressed_url': 'http://drive.google.com/uc?export=view&id=1KiXOwvdq5pjpYDZkPZwfV_tBjoRoTMaH', 'original_url': 'http://drive.google.com/uc?export=view&id=15UhUImaDII-0krvdE_bgWXsLDsniT3Xh', 'image_name': 'beachbridge', 'image_height': '378', 'compression_level': '45', 'compression_mode': 'bpg', 'image_filename': 'beachbridge_378pxh_bpg45.png'}\n",
      "{'compressed_url': 'http://drive.google.com/uc?export=view&id=1t4xU_T6hTrRvEmAQr2vDkJrFB83Hqzy8', 'original_url': 'http://drive.google.com/uc?export=view&id=15UhUImaDII-0krvdE_bgWXsLDsniT3Xh', 'image_name': 'beachbridge', 'image_height': 'NA', 'compression_level': 'human', 'compression_mode': 'human', 'image_filename': 'beachbridge_final.png'}\n",
      "{'compressed_url': 'http://drive.google.com/uc?export=view&id=1JFWWf1u9215jtSGnm-jSD9GkgxYPwkxI', 'original_url': 'http://drive.google.com/uc?export=view&id=15UhUImaDII-0krvdE_bgWXsLDsniT3Xh', 'image_name': 'beachbridge', 'image_height': '378', 'compression_level': '34', 'compression_mode': 'bpg', 'image_filename': 'beachbridge_378pxh_bpg34.png'}\n",
      "{'compressed_url': 'http://drive.google.com/uc?export=view&id=1nQV06FFSbFQfQsyQhYkVSUpZs7_YFGV4', 'original_url': 'http://drive.google.com/uc?export=view&id=15UhUImaDII-0krvdE_bgWXsLDsniT3Xh', 'image_name': 'beachbridge', 'image_height': '378', 'compression_level': '40', 'compression_mode': 'bpg', 'image_filename': 'beachbridge_378pxh_bpg40.png'}\n",
      "{'compressed_url': 'http://drive.google.com/uc?export=view&id=1ACiBJ4IMNqHgl29lCT2cCZRmvKPjpmGq', 'original_url': 'http://drive.google.com/uc?export=view&id=15UhUImaDII-0krvdE_bgWXsLDsniT3Xh', 'image_name': 'beachbridge', 'image_height': '378', 'compression_level': '26', 'compression_mode': 'bpg', 'image_filename': 'beachbridge_378pxh_bpg26.png'}\n",
      "{'compressed_url': 'http://drive.google.com/uc?export=view&id=12LHgUlPAZVPDOGOoVWiHIwedMu24ii05', 'original_url': 'http://drive.google.com/uc?export=view&id=1zsW9xKXYClIseh3cPb02r-rt_QXIEvio', 'image_name': 'wolfsketch', 'image_height': '440', 'compression_level': '25', 'compression_mode': 'bpg', 'image_filename': 'wolfsketch_440pxh_bpg25.png'}\n",
      "{'compressed_url': 'http://drive.google.com/uc?export=view&id=16loe3D9OYFfEmFAAdSwRYD91ZIQiBeR0', 'original_url': 'http://drive.google.com/uc?export=view&id=1zsW9xKXYClIseh3cPb02r-rt_QXIEvio', 'image_name': 'wolfsketch', 'image_height': '440', 'compression_level': '44', 'compression_mode': 'bpg', 'image_filename': 'wolfsketch_440pxh_bpg44.png'}\n",
      "{'compressed_url': 'http://drive.google.com/uc?export=view&id=1T6sJDp8E6gokVpChGo3DYAZ--42XyRVk', 'original_url': 'http://drive.google.com/uc?export=view&id=1zsW9xKXYClIseh3cPb02r-rt_QXIEvio', 'image_name': 'wolfsketch', 'image_height': '440', 'compression_level': '35', 'compression_mode': 'bpg', 'image_filename': 'wolfsketch_440pxh_bpg35.png'}\n",
      "{'compressed_url': 'http://drive.google.com/uc?export=view&id=1scQmBt_AsIYwRNhBypEdd0rLxqjPQGEf', 'original_url': 'http://drive.google.com/uc?export=view&id=1zsW9xKXYClIseh3cPb02r-rt_QXIEvio', 'image_name': 'wolfsketch', 'image_height': 'NA', 'compression_level': 'human', 'compression_mode': 'human', 'image_filename': 'wolfsketch_final.png'}\n",
      "{'compressed_url': 'http://drive.google.com/uc?export=view&id=1qxrH9dPx0w9Mlou27TcwF-MdTl7OXVbE', 'original_url': 'http://drive.google.com/uc?export=view&id=1zsW9xKXYClIseh3cPb02r-rt_QXIEvio', 'image_name': 'wolfsketch', 'image_height': '440', 'compression_level': '39', 'compression_mode': 'bpg', 'image_filename': 'wolfsketch_440pxh_bpg39.png'}\n",
      "{'compressed_url': 'http://drive.google.com/uc?export=view&id=1NLOOzDT8Fi6CBPcHmThCiOMGQbuCuqDz', 'original_url': 'http://drive.google.com/uc?export=view&id=1zsW9xKXYClIseh3cPb02r-rt_QXIEvio', 'image_name': 'wolfsketch', 'image_height': '440', 'compression_level': '31', 'compression_mode': 'bpg', 'image_filename': 'wolfsketch_440pxh_bpg31.png'}\n"
     ]
    }
   ],
   "source": [
    "mongo_stimuli_list = copy.deepcopy(stimuli_list)\n",
    "db = conn['stimuli']\n",
    "coll = db['bpg_hc_eval'] \n",
    "for i in mongo_stimuli_list:\n",
    "    print(i)\n",
    "    coll.insert_one(i)"
   ]
  },
  {
   "cell_type": "markdown",
   "metadata": {},
   "source": [
    "Check that `mongo_stimuli_list` now has `ObjectId`s inserted"
   ]
  },
  {
   "cell_type": "code",
   "execution_count": 8,
   "metadata": {},
   "outputs": [
    {
     "data": {
      "text/plain": [
       "{'_id': ObjectId('5ca419f8b344ba60f9541c24'),\n",
       " 'compressed_url': 'http://drive.google.com/uc?export=view&id=1zFbvwgb4uLHLzilqgvsIdrn2TQXm6SQ_',\n",
       " 'compression_level': '43',\n",
       " 'compression_mode': 'bpg',\n",
       " 'image_filename': 'rockwall_1029pxh_bpg43.png',\n",
       " 'image_height': '1029',\n",
       " 'image_name': 'rockwall',\n",
       " 'original_url': 'http://drive.google.com/uc?export=view&id=1svOMbWnGZo8SsWb4_2wgaKuDbPovLEF-'}"
      ]
     },
     "execution_count": 8,
     "metadata": {},
     "output_type": "execute_result"
    }
   ],
   "source": [
    "mongo_stimuli_list[0]"
   ]
  },
  {
   "cell_type": "markdown",
   "metadata": {},
   "source": [
    "Check how many entries are inside the collection"
   ]
  },
  {
   "cell_type": "code",
   "execution_count": 9,
   "metadata": {
    "scrolled": true
   },
   "outputs": [
    {
     "name": "stderr",
     "output_type": "stream",
     "text": [
      "/usr/local/lib/python2.7/dist-packages/ipykernel_launcher.py:1: DeprecationWarning: count is deprecated. Use estimated_document_count or count_documents instead. Please note that $where must be replaced by $expr, $near must be replaced by $geoWithin with $center, and $nearSphere must be replaced by $geoWithin with $centerSphere\n",
      "  \"\"\"Entry point for launching an IPython kernel.\n"
     ]
    },
    {
     "data": {
      "text/plain": [
       "468"
      ]
     },
     "execution_count": 9,
     "metadata": {},
     "output_type": "execute_result"
    }
   ],
   "source": [
    "coll.count()"
   ]
  },
  {
   "cell_type": "markdown",
   "metadata": {},
   "source": [
    "Check distinct types of a given attribute"
   ]
  },
  {
   "cell_type": "code",
   "execution_count": 10,
   "metadata": {},
   "outputs": [
    {
     "data": {
      "text/plain": [
       "[u'bpg', u'human']"
      ]
     },
     "execution_count": 10,
     "metadata": {},
     "output_type": "execute_result"
    }
   ],
   "source": [
    "attribute = 'compression_mode'\n",
    "coll.distinct(attribute)"
   ]
  },
  {
   "cell_type": "markdown",
   "metadata": {},
   "source": [
    "Get an instance of an attribute"
   ]
  },
  {
   "cell_type": "markdown",
   "metadata": {},
   "source": [
    "attribute = 'compressed_url'\n",
    "index = 0\n",
    "stimuli_list[index][attribute]"
   ]
  },
  {
   "cell_type": "markdown",
   "metadata": {},
   "source": [
    "Examine a random document in the collection"
   ]
  },
  {
   "cell_type": "code",
   "execution_count": 11,
   "metadata": {
    "scrolled": false
   },
   "outputs": [
    {
     "data": {
      "text/plain": [
       "{u'_id': ObjectId('5ca3fc64b344ba55de40525c'),\n",
       " u'compressed_url': u'http://drive.google.com/uc?export=view&id=1zFbvwgb4uLHLzilqgvsIdrn2TQXm6SQ_',\n",
       " u'compression_level': u'43',\n",
       " u'compression_mode': u'bpg',\n",
       " u'image_filename': u'rockwall_1029pxh_bpg43.png',\n",
       " u'image_height': u'1029',\n",
       " u'image_name': u'rockwall',\n",
       " u'orig_url': u'http://drive.google.com/uc?export=view&id=1svOMbWnGZo8SsWb4_2wgaKuDbPovLEF-'}"
      ]
     },
     "execution_count": 11,
     "metadata": {},
     "output_type": "execute_result"
    }
   ],
   "source": [
    "coll.find_one()"
   ]
  },
  {
   "cell_type": "markdown",
   "metadata": {},
   "source": [
    "### Option 2: Write stimuli to a json file"
   ]
  },
  {
   "cell_type": "markdown",
   "metadata": {},
   "source": [
    "Create `json_file` variable"
   ]
  },
  {
   "cell_type": "code",
   "execution_count": 12,
   "metadata": {},
   "outputs": [],
   "source": [
    "json_file = 'bpg_hc_stimuli.json'"
   ]
  },
  {
   "cell_type": "code",
   "execution_count": 13,
   "metadata": {},
   "outputs": [],
   "source": [
    "with open(json_file, 'w') as file_write:\n",
    "    json.dump(stimuli_list, file_write)"
   ]
  },
  {
   "cell_type": "code",
   "execution_count": null,
   "metadata": {},
   "outputs": [],
   "source": []
  }
 ],
 "metadata": {
  "kernelspec": {
   "display_name": "Python 3",
   "language": "python",
   "name": "python3"
  },
  "language_info": {
   "codemirror_mode": {
    "name": "ipython",
    "version": 2
   },
   "file_extension": ".py",
   "mimetype": "text/x-python",
   "name": "python",
   "nbconvert_exporter": "python",
   "pygments_lexer": "ipython2",
   "version": "2.7.15rc1"
  }
 },
 "nbformat": 4,
 "nbformat_minor": 2
}
