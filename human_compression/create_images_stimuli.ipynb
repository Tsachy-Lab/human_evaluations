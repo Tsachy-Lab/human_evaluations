{
 "cells": [
  {
   "cell_type": "markdown",
   "metadata": {},
   "source": [
    "# This notebook contains methods for turning a database of images into stimuli\n",
    "This is for generating stimuli from a collection of BPG and human-compressed images. The notebook assumes:\n",
    "* All images (BPG-compressed, human-compressed, and original files) are PNGs that are hosted in a publicly-viewable Google Drive folder\n",
    "* Basic info about the images database (Google Drive folder) are recorded in a .csv file which is read into the variable `data_file`\n",
    "* BPG-compressed images have filenames containing the image height in pixels\n",
    "* Human-compressed images have file suffix '_final.png'"
   ]
  },
  {
   "cell_type": "markdown",
   "metadata": {},
   "source": [
    "Import python libraries"
   ]
  },
  {
   "cell_type": "code",
   "execution_count": 1,
   "metadata": {},
   "outputs": [],
   "source": [
    "import json\n",
    "import numpy as np\n",
    "import csv\n",
    "import pymongo as pm\n",
    "import copy"
   ]
  },
  {
   "cell_type": "markdown",
   "metadata": {},
   "source": [
    "Define data file and other necessary variables (e.g. Google image file prefix)"
   ]
  },
  {
   "cell_type": "code",
   "execution_count": 2,
   "metadata": {},
   "outputs": [],
   "source": [
    "data_file = 'img_ids.csv'\n",
    "google_image_str = 'http://drive.google.com/uc?export=view&id='  # Prefix for accessing Google Image files"
   ]
  },
  {
   "cell_type": "markdown",
   "metadata": {},
   "source": [
    "Read in data file and print header"
   ]
  },
  {
   "cell_type": "code",
   "execution_count": 3,
   "metadata": {
    "scrolled": false
   },
   "outputs": [
    {
     "name": "stdout",
     "output_type": "stream",
     "text": [
      "['Name', 'Date', 'Size', 'URL', 'ID']\n"
     ]
    }
   ],
   "source": [
    "data_dict = {}\n",
    "line_counter = 0\n",
    "with open(data_file) as csv_file:\n",
    "    for line in csv_file:\n",
    "        if line_counter == 0:\n",
    "            header_list = line.strip().split(',')\n",
    "        else:\n",
    "            line_data = line.strip().split(',')\n",
    "            data_dict[line_data[0]] = {i: j for (i, j) in zip(header_list[1:], line_data[1:])}\n",
    "        line_counter += 1\n",
    "print(header_list)"
   ]
  },
  {
   "cell_type": "markdown",
   "metadata": {},
   "source": [
    "## Create stimuli list based on data"
   ]
  },
  {
   "cell_type": "code",
   "execution_count": 4,
   "metadata": {},
   "outputs": [],
   "source": [
    "image_types = [i for i in set([i.split('_')[0] for i in list(data_dict.keys())]) if (len(i) > 0) & ('.' not in i)]\n",
    "stimuli_list = []\n",
    "for image_type in image_types:\n",
    "    if len(image_type) > 1:\n",
    "        png_files = [i for i in data_dict.keys() if (image_type in i) & ('.png' in i)]\n",
    "        compressed_files = [i for i in png_files if ('bpg' in i) or ('final' in i)]\n",
    "        original_files = [i for i in png_files if ('original') in i or (('pxh' in i) & ('bpg' not in i))]\n",
    "        if len(original_files) > 1:\n",
    "            original_file = [i for i in original_files if 'px' in i][0]\n",
    "        else:\n",
    "            original_file = original_files[0]\n",
    "        for compressed_file in compressed_files:\n",
    "            if 'final' in compressed_file:\n",
    "                image_height = 'NA'\n",
    "                compression_level ='human'\n",
    "                compression_mode = 'human'\n",
    "            else:\n",
    "                image_height = compressed_file.split('_')[1].split('pxh')[0]\n",
    "                compression_level = compressed_file.split('_bpg')[1].split('.')[0]\n",
    "                compression_mode = 'bpg'\n",
    "            stimuli_list.append(\n",
    "                {\n",
    "                    'image_filename' : compressed_file,\n",
    "                    'image_name': compressed_file.split('_')[0],\n",
    "                    'image_height': image_height,\n",
    "                    'compression_level': compression_level,\n",
    "                    'compression_mode': compression_mode,\n",
    "                    'original_url': google_image_str + data_dict[original_file]['ID'],\n",
    "                    'compressed_url' : google_image_str + data_dict[compressed_file]['ID']\n",
    "                }\n",
    "            )"
   ]
  },
  {
   "cell_type": "markdown",
   "metadata": {},
   "source": [
    "Check stimuli list"
   ]
  },
  {
   "cell_type": "code",
   "execution_count": 5,
   "metadata": {
    "scrolled": true
   },
   "outputs": [
    {
     "data": {
      "text/plain": [
       "{'compressed_url': 'http://drive.google.com/uc?export=view&id=1zFbvwgb4uLHLzilqgvsIdrn2TQXm6SQ_',\n",
       " 'compression_level': '43',\n",
       " 'compression_mode': 'bpg',\n",
       " 'image_filename': 'rockwall_1029pxh_bpg43.png',\n",
       " 'image_height': '1029',\n",
       " 'image_name': 'rockwall',\n",
       " 'original_url': 'http://drive.google.com/uc?export=view&id=1svOMbWnGZo8SsWb4_2wgaKuDbPovLEF-'}"
      ]
     },
     "execution_count": 5,
     "metadata": {},
     "output_type": "execute_result"
    }
   ],
   "source": [
    "stimuli_list[0]"
   ]
  },
  {
   "cell_type": "markdown",
   "metadata": {},
   "source": [
    "## Now that the list of stimuli is created, we can export them in two ways"
   ]
  },
  {
   "cell_type": "markdown",
   "metadata": {},
   "source": [
    "### Option 1: Connect to a mongodb server and insert stimuli\n",
    "_***NOTE!!!_\n",
    "If this option is chosen you must make sure to change the following javascript files:\n",
    "* `app.js`: change the database (`dbname`) and collection(`colname`) in function `sendSingleStim`\n",
    "* It's a good idea to have results written into a collection into a results database that matches the collection name of your input data. To do this, add the collection name to the variable `collectionList` in store.js"
   ]
  },
  {
   "cell_type": "code",
   "execution_count": 6,
   "metadata": {
    "scrolled": false
   },
   "outputs": [
    {
     "name": "stderr",
     "output_type": "stream",
     "text": [
      "/usr/local/lib/python2.7/dist-packages/ipykernel_launcher.py:6: DeprecationWarning: database_names is deprecated. Use list_database_names instead.\n",
      "  \n"
     ]
    },
    {
     "data": {
      "text/plain": [
       "[u'admin',\n",
       " u'config',\n",
       " u'highschoolers',\n",
       " u'kiddraw',\n",
       " u'local',\n",
       " u'stimuli',\n",
       " u'testDatabase']"
      ]
     },
     "execution_count": 6,
     "metadata": {},
     "output_type": "execute_result"
    }
   ],
   "source": [
    "pswd = 'popeye2mongo'\n",
    "user = 'ihwang'\n",
    "host = 'popeye2'\n",
    "\n",
    "conn = pm.MongoClient('mongodb://' + user + ':' + pswd + '@127.0.0.1')\n",
    "conn.database_names()  # Check databases inside the connected server"
   ]
  },
  {
   "cell_type": "markdown",
   "metadata": {},
   "source": [
    "Create a database called `stimuli` (or access it if it already exists), create a collection called `bpg_hc_eval` (or access it if it already exists) and insert stimuli from list"
   ]
  },
  {
   "cell_type": "code",
   "execution_count": 14,
   "metadata": {
    "scrolled": true
   },
   "outputs": [],
   "source": [
    "mongo_stimuli_list = copy.deepcopy(stimuli_list)\n",
    "db = conn['stimuli']\n",
    "coll = db['bpg_hc_eval'] \n",
    "for i in mongo_stimuli_list:\n",
    "    coll.insert_one(i)"
   ]
  },
  {
   "cell_type": "markdown",
   "metadata": {},
   "source": [
    "Check that `mongo_stimuli_list` now has `ObjectId`s inserted"
   ]
  },
  {
   "cell_type": "code",
   "execution_count": 8,
   "metadata": {},
   "outputs": [
    {
     "data": {
      "text/plain": [
       "{'_id': ObjectId('5ca419f8b344ba60f9541c24'),\n",
       " 'compressed_url': 'http://drive.google.com/uc?export=view&id=1zFbvwgb4uLHLzilqgvsIdrn2TQXm6SQ_',\n",
       " 'compression_level': '43',\n",
       " 'compression_mode': 'bpg',\n",
       " 'image_filename': 'rockwall_1029pxh_bpg43.png',\n",
       " 'image_height': '1029',\n",
       " 'image_name': 'rockwall',\n",
       " 'original_url': 'http://drive.google.com/uc?export=view&id=1svOMbWnGZo8SsWb4_2wgaKuDbPovLEF-'}"
      ]
     },
     "execution_count": 8,
     "metadata": {},
     "output_type": "execute_result"
    }
   ],
   "source": [
    "mongo_stimuli_list[0]"
   ]
  },
  {
   "cell_type": "markdown",
   "metadata": {},
   "source": [
    "Check how many entries are inside the collection"
   ]
  },
  {
   "cell_type": "code",
   "execution_count": 9,
   "metadata": {
    "scrolled": true
   },
   "outputs": [
    {
     "name": "stderr",
     "output_type": "stream",
     "text": [
      "/usr/local/lib/python2.7/dist-packages/ipykernel_launcher.py:1: DeprecationWarning: count is deprecated. Use estimated_document_count or count_documents instead. Please note that $where must be replaced by $expr, $near must be replaced by $geoWithin with $center, and $nearSphere must be replaced by $geoWithin with $centerSphere\n",
      "  \"\"\"Entry point for launching an IPython kernel.\n"
     ]
    },
    {
     "data": {
      "text/plain": [
       "468"
      ]
     },
     "execution_count": 9,
     "metadata": {},
     "output_type": "execute_result"
    }
   ],
   "source": [
    "coll.count()"
   ]
  },
  {
   "cell_type": "markdown",
   "metadata": {},
   "source": [
    "Check distinct types of a given attribute"
   ]
  },
  {
   "cell_type": "code",
   "execution_count": 10,
   "metadata": {},
   "outputs": [
    {
     "data": {
      "text/plain": [
       "[u'bpg', u'human']"
      ]
     },
     "execution_count": 10,
     "metadata": {},
     "output_type": "execute_result"
    }
   ],
   "source": [
    "attribute = 'compression_mode'\n",
    "coll.distinct(attribute)"
   ]
  },
  {
   "cell_type": "markdown",
   "metadata": {},
   "source": [
    "Get an instance of an attribute"
   ]
  },
  {
   "cell_type": "markdown",
   "metadata": {},
   "source": [
    "attribute = 'compressed_url'\n",
    "index = 0\n",
    "stimuli_list[index][attribute]"
   ]
  },
  {
   "cell_type": "markdown",
   "metadata": {},
   "source": [
    "Examine a random document in the collection"
   ]
  },
  {
   "cell_type": "code",
   "execution_count": 11,
   "metadata": {
    "scrolled": true
   },
   "outputs": [
    {
     "data": {
      "text/plain": [
       "{u'_id': ObjectId('5ca3fc64b344ba55de40525c'),\n",
       " u'compressed_url': u'http://drive.google.com/uc?export=view&id=1zFbvwgb4uLHLzilqgvsIdrn2TQXm6SQ_',\n",
       " u'compression_level': u'43',\n",
       " u'compression_mode': u'bpg',\n",
       " u'image_filename': u'rockwall_1029pxh_bpg43.png',\n",
       " u'image_height': u'1029',\n",
       " u'image_name': u'rockwall',\n",
       " u'orig_url': u'http://drive.google.com/uc?export=view&id=1svOMbWnGZo8SsWb4_2wgaKuDbPovLEF-'}"
      ]
     },
     "execution_count": 11,
     "metadata": {},
     "output_type": "execute_result"
    }
   ],
   "source": [
    "coll.find_one()"
   ]
  },
  {
   "cell_type": "markdown",
   "metadata": {},
   "source": [
    "### Option 2: Write stimuli to a json file"
   ]
  },
  {
   "cell_type": "markdown",
   "metadata": {},
   "source": [
    "Create `json_file` variable"
   ]
  },
  {
   "cell_type": "code",
   "execution_count": 12,
   "metadata": {},
   "outputs": [],
   "source": [
    "json_file = 'bpg_hc_stimuli.json'"
   ]
  },
  {
   "cell_type": "code",
   "execution_count": 13,
   "metadata": {},
   "outputs": [],
   "source": [
    "with open(json_file, 'w') as file_write:\n",
    "    json.dump(stimuli_list, file_write)"
   ]
  },
  {
   "cell_type": "markdown",
   "metadata": {},
   "source": [
    "## ***IMPORTANT*** things to think about"
   ]
  },
  {
   "cell_type": "markdown",
   "metadata": {},
   "source": [
    "* To create a database to store results in, in `app.js` set `dbname` in the `checkPreviousParticipant` function to your desired database. This way, `app.js` will continue to check that the same user isn't doing multiple trials.\n"
   ]
  },
  {
   "cell_type": "code",
   "execution_count": null,
   "metadata": {},
   "outputs": [],
   "source": []
  }
 ],
 "metadata": {
  "kernelspec": {
   "display_name": "Python 3",
   "language": "python",
   "name": "python3"
  },
  "language_info": {
   "codemirror_mode": {
    "name": "ipython",
    "version": 2
   },
   "file_extension": ".py",
   "mimetype": "text/x-python",
   "name": "python",
   "nbconvert_exporter": "python",
   "pygments_lexer": "ipython2",
   "version": "2.7.15rc1"
  }
 },
 "nbformat": 4,
 "nbformat_minor": 2
}
