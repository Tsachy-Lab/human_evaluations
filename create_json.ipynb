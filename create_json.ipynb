{
 "cells": [
  {
   "cell_type": "code",
   "execution_count": 1,
   "metadata": {},
   "outputs": [],
   "source": [
    "import json\n",
    "import numpy as np\n",
    "import csv\n",
    "import pymongo as pm"
   ]
  },
  {
   "cell_type": "code",
   "execution_count": 2,
   "metadata": {},
   "outputs": [],
   "source": [
    "google_img_str = 'http://drive.google.com/uc?export=view&id='"
   ]
  },
  {
   "cell_type": "code",
   "execution_count": 3,
   "metadata": {},
   "outputs": [
    {
     "name": "stdout",
     "output_type": "stream",
     "text": [
      "['Name', 'Date', 'Size', 'URL', 'ID']\n"
     ]
    }
   ],
   "source": [
    "data_dict = {}\n",
    "line_counter = 0\n",
    "with open('img_ids.csv') as csv_file:\n",
    "    for line in csv_file:\n",
    "        if line_counter == 0:\n",
    "            header_list = line.strip().split(',')\n",
    "        else:\n",
    "            line_data = line.strip().split(',')\n",
    "            data_dict[line_data[0]] = {i: j for (i, j) in zip(header_list[1:], line_data[1:])}\n",
    "        line_counter += 1\n",
    "print(header_list)"
   ]
  },
  {
   "cell_type": "code",
   "execution_count": 4,
   "metadata": {},
   "outputs": [],
   "source": [
    "img_types = [i for i in set([i.split('_')[0] for i in data_dict.keys()]) if '.' not in i]"
   ]
  },
  {
   "cell_type": "code",
   "execution_count": 41,
   "metadata": {},
   "outputs": [],
   "source": [
    "json_list = []\n",
    "for img_type in img_types:\n",
    "    if len(img_type) > 1:\n",
    "        png_files = [i for i in data_dict.keys() if (img_type in i) & ('.png' in i)]\n",
    "        compressed_files = [i for i in png_files if ('bpg' in i) or ('final' in i)]\n",
    "        original_files = [i for i in png_files if ('original') in i or (('pxh' in i) & ('bpg' not in i))]\n",
    "        if len(original_files) > 1:\n",
    "            original_file = [i for i in original_files if 'px' in i][0]\n",
    "        else:\n",
    "            original_file = original_files[0]\n",
    "        for compressed_file in compressed_files:\n",
    "            if 'final' in compressed_file:\n",
    "                image_height = 'NA'\n",
    "                compression_level ='human'\n",
    "                compression_mode = 'human'\n",
    "            else:\n",
    "                image_height = compressed_file.split('_')[1].split('pxh')[0]\n",
    "                compression_level = compressed_file.split('_bpg')[1].split('.')[0]\n",
    "                compression_mode = 'bpg'\n",
    "            json_list.append(\n",
    "                {\n",
    "                    'image_filename' : compressed_file,\n",
    "                    'image_name': compressed_file.split('_')[0],\n",
    "                    'image_height': image_height,\n",
    "                    'compression_level': compression_level,\n",
    "                    'compression_mode': compression_mode,\n",
    "                    'orig_url': google_img_str + data_dict[original_file]['ID'],\n",
    "                    'compressed_url' : google_img_str + data_dict[compressed_file]['ID']\n",
    "                }\n",
    "            )"
   ]
  },
  {
   "cell_type": "code",
   "execution_count": 42,
   "metadata": {},
   "outputs": [
    {
     "data": {
      "text/plain": [
       "{'compressed_url': 'http://drive.google.com/uc?export=view&id=1zFbvwgb4uLHLzilqgvsIdrn2TQXm6SQ_',\n",
       " 'compression_level': '43',\n",
       " 'compression_mode': 'bpg',\n",
       " 'image_filename': 'rockwall_1029pxh_bpg43.png',\n",
       " 'image_height': '1029',\n",
       " 'image_name': 'rockwall',\n",
       " 'orig_url': 'http://drive.google.com/uc?export=view&id=1svOMbWnGZo8SsWb4_2wgaKuDbPovLEF-'}"
      ]
     },
     "execution_count": 42,
     "metadata": {},
     "output_type": "execute_result"
    }
   ],
   "source": [
    "json_list[0]"
   ]
  },
  {
   "cell_type": "code",
   "execution_count": 7,
   "metadata": {},
   "outputs": [],
   "source": [
    "image_id = compressed_file\n",
    "image_name = compressed_file.split('_')[0]\n",
    "image_size = compressed_file.split('_')[1]\n",
    "compression_level = compressed_file.split('_')[2]"
   ]
  },
  {
   "cell_type": "code",
   "execution_count": 8,
   "metadata": {},
   "outputs": [
    {
     "data": {
      "text/plain": [
       "'440'"
      ]
     },
     "execution_count": 8,
     "metadata": {},
     "output_type": "execute_result"
    }
   ],
   "source": [
    "image_size.split('pxh')[0]"
   ]
  },
  {
   "cell_type": "code",
   "execution_count": 43,
   "metadata": {},
   "outputs": [
    {
     "data": {
      "text/plain": [
       "[]"
      ]
     },
     "execution_count": 43,
     "metadata": {},
     "output_type": "execute_result"
    }
   ],
   "source": [
    "coll.distinct('compression_mode')"
   ]
  },
  {
   "cell_type": "code",
   "execution_count": 9,
   "metadata": {},
   "outputs": [
    {
     "data": {
      "text/plain": [
       "'http://drive.google.com/uc?export=view&id=1zFbvwgb4uLHLzilqgvsIdrn2TQXm6SQ_'"
      ]
     },
     "execution_count": 9,
     "metadata": {},
     "output_type": "execute_result"
    }
   ],
   "source": [
    "json_list[0]['img_url']"
   ]
  },
  {
   "cell_type": "code",
   "execution_count": 10,
   "metadata": {},
   "outputs": [],
   "source": [
    "# with open('test.json', 'w') as writefile:\n",
    "#     json.dump(json_list, writefile)"
   ]
  },
  {
   "cell_type": "code",
   "execution_count": 11,
   "metadata": {},
   "outputs": [],
   "source": [
    "pswd = 'popeye2mongo'\n",
    "user = 'ihwang'\n",
    "host = 'popeye2'\n",
    "\n",
    "conn = pm.MongoClient('mongodb://' + user + ':' + pswd + '@127.0.0.1')"
   ]
  },
  {
   "cell_type": "code",
   "execution_count": 12,
   "metadata": {},
   "outputs": [
    {
     "name": "stderr",
     "output_type": "stream",
     "text": [
      "/usr/local/lib/python2.7/dist-packages/ipykernel_launcher.py:1: DeprecationWarning: database_names is deprecated. Use list_database_names instead.\n",
      "  \"\"\"Entry point for launching an IPython kernel.\n"
     ]
    },
    {
     "data": {
      "text/plain": [
       "[u'admin',\n",
       " u'config',\n",
       " u'highschoolers',\n",
       " u'kiddraw',\n",
       " u'local',\n",
       " u'stimuli',\n",
       " u'testDatabase']"
      ]
     },
     "execution_count": 12,
     "metadata": {},
     "output_type": "execute_result"
    }
   ],
   "source": [
    "conn.database_names()"
   ]
  },
  {
   "cell_type": "code",
   "execution_count": 45,
   "metadata": {},
   "outputs": [],
   "source": [
    "db = conn['stimuli']\n",
    "coll = db['bpg_hc_eval'] "
   ]
  },
  {
   "cell_type": "code",
   "execution_count": 46,
   "metadata": {},
   "outputs": [],
   "source": [
    "for i in json_list:\n",
    "    coll.insert_one(i)"
   ]
  },
  {
   "cell_type": "code",
   "execution_count": 47,
   "metadata": {},
   "outputs": [
    {
     "name": "stderr",
     "output_type": "stream",
     "text": [
      "/usr/local/lib/python2.7/dist-packages/ipykernel_launcher.py:1: DeprecationWarning: count is deprecated. Use estimated_document_count or count_documents instead. Please note that $where must be replaced by $expr, $near must be replaced by $geoWithin with $center, and $nearSphere must be replaced by $geoWithin with $centerSphere\n",
      "  \"\"\"Entry point for launching an IPython kernel.\n"
     ]
    },
    {
     "data": {
      "text/plain": [
       "78"
      ]
     },
     "execution_count": 47,
     "metadata": {},
     "output_type": "execute_result"
    }
   ],
   "source": [
    "coll.count()"
   ]
  },
  {
   "cell_type": "code",
   "execution_count": 48,
   "metadata": {},
   "outputs": [
    {
     "data": {
      "text/plain": [
       "{u'_id': ObjectId('5ca3fc64b344ba55de40525c'),\n",
       " u'compressed_url': u'http://drive.google.com/uc?export=view&id=1zFbvwgb4uLHLzilqgvsIdrn2TQXm6SQ_',\n",
       " u'compression_level': u'43',\n",
       " u'compression_mode': u'bpg',\n",
       " u'image_filename': u'rockwall_1029pxh_bpg43.png',\n",
       " u'image_height': u'1029',\n",
       " u'image_name': u'rockwall',\n",
       " u'orig_url': u'http://drive.google.com/uc?export=view&id=1svOMbWnGZo8SsWb4_2wgaKuDbPovLEF-'}"
      ]
     },
     "execution_count": 48,
     "metadata": {},
     "output_type": "execute_result"
    }
   ],
   "source": [
    "coll.find_one()"
   ]
  },
  {
   "cell_type": "code",
   "execution_count": 23,
   "metadata": {},
   "outputs": [
    {
     "name": "stderr",
     "output_type": "stream",
     "text": [
      "/usr/local/lib/python2.7/dist-packages/ipykernel_launcher.py:1: DeprecationWarning: count is deprecated. Use estimated_document_count or count_documents instead. Please note that $where must be replaced by $expr, $near must be replaced by $geoWithin with $center, and $nearSphere must be replaced by $geoWithin with $centerSphere\n",
      "  \"\"\"Entry point for launching an IPython kernel.\n"
     ]
    },
    {
     "data": {
      "text/plain": [
       "78"
      ]
     },
     "execution_count": 23,
     "metadata": {},
     "output_type": "execute_result"
    }
   ],
   "source": [
    "coll.count()"
   ]
  },
  {
   "cell_type": "code",
   "execution_count": 50,
   "metadata": {},
   "outputs": [
    {
     "data": {
      "text/plain": [
       "[u'43',\n",
       " u'39',\n",
       " u'34',\n",
       " u'human',\n",
       " u'49',\n",
       " u'46',\n",
       " u'48',\n",
       " u'30',\n",
       " u'35',\n",
       " u'44',\n",
       " u'28',\n",
       " u'31',\n",
       " u'38',\n",
       " u'24',\n",
       " u'51',\n",
       " u'37',\n",
       " u'29',\n",
       " u'50',\n",
       " u'33',\n",
       " u'45',\n",
       " u'23',\n",
       " u'40',\n",
       " u'41',\n",
       " u'27',\n",
       " u'36',\n",
       " u'19',\n",
       " u'42',\n",
       " u'47',\n",
       " u'26',\n",
       " u'25']"
      ]
     },
     "execution_count": 50,
     "metadata": {},
     "output_type": "execute_result"
    }
   ],
   "source": [
    "coll.distinct('compression_level')"
   ]
  },
  {
   "cell_type": "code",
   "execution_count": null,
   "metadata": {},
   "outputs": [],
   "source": []
  },
  {
   "cell_type": "code",
   "execution_count": null,
   "metadata": {},
   "outputs": [],
   "source": []
  }
 ],
 "metadata": {
  "kernelspec": {
   "display_name": "Python 3",
   "language": "python",
   "name": "python3"
  },
  "language_info": {
   "codemirror_mode": {
    "name": "ipython",
    "version": 2
   },
   "file_extension": ".py",
   "mimetype": "text/x-python",
   "name": "python",
   "nbconvert_exporter": "python",
   "pygments_lexer": "ipython2",
   "version": "2.7.15rc1"
  }
 },
 "nbformat": 4,
 "nbformat_minor": 2
}
