{
 "cells": [
  {
   "cell_type": "code",
   "execution_count": 16,
   "metadata": {},
   "outputs": [],
   "source": [
    "import json\n",
    "import numpy as np\n",
    "import csv"
   ]
  },
  {
   "cell_type": "code",
   "execution_count": 17,
   "metadata": {},
   "outputs": [],
   "source": [
    "google_img_str = 'http://drive.google.com/uc?export=view&id='"
   ]
  },
  {
   "cell_type": "code",
   "execution_count": 18,
   "metadata": {},
   "outputs": [
    {
     "name": "stdout",
     "output_type": "stream",
     "text": [
      "['Name', 'Date', 'Size', 'URL', 'ID']\n"
     ]
    }
   ],
   "source": [
    "data_dict = {}\n",
    "line_counter = 0\n",
    "with open('highschoolers_file_ids.csv') as csv_file:\n",
    "    for line in csv_file:\n",
    "        if line_counter == 0:\n",
    "            header_list = line.strip().split(',')\n",
    "        else:\n",
    "            line_data = line.strip().split(',')\n",
    "            data_dict[line_data[0]] = {i: j for (i, j) in zip(header_list[1:], line_data[1:])}\n",
    "        line_counter += 1\n",
    "print(header_list)"
   ]
  },
  {
   "cell_type": "code",
   "execution_count": 21,
   "metadata": {},
   "outputs": [],
   "source": [
    "files = [i for i in set([i.split('_')[0] for i in data_dict.keys()]) if '.' not in i]"
   ]
  },
  {
   "cell_type": "code",
   "execution_count": 22,
   "metadata": {},
   "outputs": [],
   "source": [
    "json_dict = {}\n",
    "for file in files:\n",
    "    img_files = [i for i in data_dict.keys() if file in i]\n",
    "    orig_file = [i for i in img_files if ('original_500px' in i) & ('png' in i)][0]\n",
    "    bpg_files = [i for i in img_files if ('bpg' in i) & ('png' in i)]\n",
    "    for bpg_file in bpg_files:\n",
    "        json_dict[bpg_file] = {\n",
    "            'orig_url': google_img_str + data_dict[orig_file]['ID'],\n",
    "            'img_url' : google_img_str + data_dict[bpg_file]['ID']\n",
    "        }"
   ]
  },
  {
   "cell_type": "code",
   "execution_count": 25,
   "metadata": {},
   "outputs": [],
   "source": [
    "with open(\"highschoolers_images_stimdict.json\", \"w\") as write_file:\n",
    "    json.dump(json_dict, write_file)"
   ]
  },
  {
   "cell_type": "code",
   "execution_count": null,
   "metadata": {},
   "outputs": [],
   "source": []
  }
 ],
 "metadata": {
  "kernelspec": {
   "display_name": "Python 3",
   "language": "python",
   "name": "python3"
  },
  "language_info": {
   "codemirror_mode": {
    "name": "ipython",
    "version": 2
   },
   "file_extension": ".py",
   "mimetype": "text/x-python",
   "name": "python",
   "nbconvert_exporter": "python",
   "pygments_lexer": "ipython2",
   "version": "2.7.15rc1"
  }
 },
 "nbformat": 4,
 "nbformat_minor": 2
}
